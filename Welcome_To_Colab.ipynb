{
  "cells": [
    {
      "cell_type": "markdown",
      "metadata": {
        "id": "view-in-github",
        "colab_type": "text"
      },
      "source": [
        "<a href=\"https://colab.research.google.com/github/meliaaoktaviana/MeliaOktaviana/blob/main/Welcome_To_Colab.ipynb\" target=\"_parent\"><img src=\"https://colab.research.google.com/assets/colab-badge.svg\" alt=\"Open In Colab\"/></a>"
      ]
    },
    {
      "cell_type": "markdown",
      "source": [
        "# algoritma modul1 latihan"
      ],
      "metadata": {
        "id": "YOT53EqXZFPY"
      }
    },
    {
      "cell_type": "code",
      "source": [
        "#kasus 1\n",
        "#masukan data jarak (meter) dan waktu (deetik)\n",
        "jarak_mobil = 2000\n",
        "jarak_motor = 1500\n",
        "jarak_sepeda = 800\n",
        "\n",
        "waktu_mobil = 90\n",
        "waktu_motor = 50\n",
        "waktu_sepeda = 40\n",
        "\n",
        "#menghitung kecepatan\n",
        "kecepatan_mobil = jarak_mobil/waktu_mobil\n",
        "kecepatan_motor = jarak_motor/waktu_motor\n",
        "kecepatan_sepeda = jarak_sepeda/waktu_sepeda\n",
        "\n",
        "#tampilkan hasil\n",
        "print(f\"kecepatan mobil: {kecepatan_mobil:.2f}m/s\")\n",
        "print(f\"kecepatan motor: {kecepatan_motor:.2f}m/s\")\n",
        "print(f\"kecepatan sepeda: {kecepatan_sepeda:.2f}m/s\")\n",
        "\n",
        "#menhgitung kecepatan tertinggi\n",
        "kecepatan_tertinggi = max(kecepatan_mobil, kecepatan_motor, kecepatan_sepeda)\n",
        "if kecepatan_tertinggi == kecepatan_mobil: kendaraan_tercepat = \"mobil\"\n",
        "elif kecepatan_tertinggi == kecepatan_motor: kendaraan_tercepat =\"motor\"\n",
        "else:\n",
        "  kendaraan_tercepat = \"sepeda\"\n",
        "print(f\"kendaraan dengan kecepatan tertinggi adalah: {kendaraan_tercepat} dengan kecepatan {kendaraan_tercepat}m/s\")\n"
      ],
      "metadata": {
        "colab": {
          "base_uri": "https://localhost:8080/"
        },
        "id": "Xsg8xTr9ZGcB",
        "outputId": "8d48cfbf-695c-4879-8039-352c2b6ca631"
      },
      "execution_count": null,
      "outputs": [
        {
          "output_type": "stream",
          "name": "stdout",
          "text": [
            "kecepatan mobil: 22.22m/s\n",
            "kecepatan motor: 30.00m/s\n",
            "kecepatan sepeda: 20.00m/s\n",
            "kendaraan dengan kecepatan tertinggi adalah: motor dengan kecepatan motorm/s\n"
          ]
        }
      ]
    },
    {
      "cell_type": "code",
      "source": [
        "#kasus 2\n",
        "#masukan data jarak (meter) dan waktu (detik)\n",
        "jarak_pelari1 = 400\n",
        "jarak_pelari2 = 800\n",
        "jarak_pelari3 = 100\n",
        "\n",
        "waktu_pelari1 = 50\n",
        "waktu_pelari2 = 120\n",
        "waktu_pelari3 = 11\n",
        "#hitung kecepatan (m/s)\n",
        "kecepatan_pelari1 = jarak_pelari1/waktu_pelari1\n",
        "kecepatan_pelari2 = jarak_pelari2/waktu_pelari2\n",
        "kecepatan_pelari3 = jarak_pelari3/waktu_pelari3\n",
        "#tampilkan hasil\n",
        "print(f\"kecepatan pelari 1: {kecepatan_pelari1:.2f}m/s\")\n",
        "print(f\"kecepatan pelari 2: {kecepatan_pelari2:.2f}m/s\")\n",
        "print(f\"kecepatan pelari 3: {kecepatan_pelari3:.2f}m/s\")\n",
        "#menghitung pelari tercepat\n",
        "kecepatan_tertinggi = max(kecepatan_pelari1, kecepatan_pelari2, kecepatan_pelari3)\n",
        "if kecepatan_tertinggi == kecepatan_pelari1: pelari_tercepat = \"pelari 1\"\n",
        "elif kecepatan_tertinggi == kecepatan_pelari2: prlari_tercepat = \"pelari 2\"\n",
        "else:\n",
        "  pelari_tercepat = \"pelari 3\"\n",
        "#tampilkan hasil\n",
        "print(f\"pelari dengan kecepatan tertinggi adalah {pelari_tercepat} dengan kecepatan {kecepatan_tertinggi}m/s\")"
      ],
      "metadata": {
        "colab": {
          "base_uri": "https://localhost:8080/"
        },
        "id": "oqaaMVBGwhrv",
        "outputId": "b087ff55-f523-453c-82a2-e09a3f2c194f"
      },
      "execution_count": null,
      "outputs": [
        {
          "output_type": "stream",
          "name": "stdout",
          "text": [
            "kecepatan pelari 1: 8.00m/s\n",
            "kecepatan pelari 2: 6.67m/s\n",
            "kecepatan pelari 3: 9.09m/s\n",
            "pelari dengan kecepatan tertinggi adalah pelari 3 dengan kecepatan 9.090909090909092m/s\n"
          ]
        }
      ]
    },
    {
      "cell_type": "code",
      "source": [
        "#kasus 3\n",
        "# masukan data jarak (meter) dan waktu (detik)\n",
        "jarak_kereta = 5000\n",
        "jarak_bus = 3000\n",
        "jarak_truk = 2500\n",
        "waktu_kereta = 180\n",
        "waktu_bus = 120\n",
        "waktu_truk = 120\n",
        "#menghitung kecepatan (m/s)\n",
        "kecepatan_kereta = jarak_kereta/waktu_kereta\n",
        "kecepatan_bus = jarak_bus/waktu_bus\n",
        "kecepatan_truk = jarak_truk/waktu_truk\n",
        "#tampilkan hasil\n",
        "print(f\"kecepatan kereta: {kecepatan_kereta:.2f}m/s\")\n",
        "print(f\"kecepatan bus: {kecepatan_bus:.2f}m/s\")\n",
        "print(f\"kecepatan truk: {kecepatan_truk:.2f}m/s\")\n",
        "#menghitung kendaraan tercepat\n",
        "kecepatan_tertinggi = max(kecepatan_kereta, kecepatan_bus, kecepatan_truk)\n",
        "if kecepatan_tertinggi == kecepatan_kereta: kendaraan_tercepat = \"kereta\"\n",
        "elif kecepatan_tertinggi == kecepatan_bus: kendaraan_tercepat = \"bus\"\n",
        "else:\n",
        "  kendaraan_tercepat = \"truk\"\n",
        "print(f\"kendaraan dengan kecepatan tertinggi adalah {kendaraan_tercepat} dengan kecepatan {kecepatan_tertinggi}m/s\")"
      ],
      "metadata": {
        "colab": {
          "base_uri": "https://localhost:8080/"
        },
        "id": "7L8vY2U5zz2I",
        "outputId": "e256f76a-3edd-46b3-f7b0-89b4215f824b"
      },
      "execution_count": null,
      "outputs": [
        {
          "output_type": "stream",
          "name": "stdout",
          "text": [
            "kecepatan kereta: 27.78m/s\n",
            "kecepatan bus: 25.00m/s\n",
            "kecepatan truk: 20.83m/s\n",
            "kendaraan dengan kecepatan tertinggi adalah kereta dengan kecepatan 27.77777777777778m/s\n"
          ]
        }
      ]
    },
    {
      "cell_type": "code",
      "source": [
        "#kasus 4\n",
        "#masukan data jarak (meter) dan waktu (detik)\n",
        "jarak_drone =1200\n",
        "jarak_kapal =5000\n",
        "jarak_pemainsepakbola =60\n",
        "waktu_drone =60\n",
        "waktu_kapal =300\n",
        "waktu_pemainsepakbola =7\n",
        "#hitung kecepatan (m/s)\n",
        "kecepatan_drone = jarak_drone/waktu_drone\n",
        "kecepatan_kapal = jarak_kapal/waktu_kapal\n",
        "kecepatan_pemainsepakbola = jarak_pemainsepakbola/waktu_pemainsepakbola\n",
        "#tampilkan hasil\n",
        "print(f\"kecepatan drone: {kecepatan_drone:.2f}m/s\")\n",
        "print(f\"kecepatan kapal:  {kecepatan_kapal:.2f}m/s\")\n",
        "print(f\"kecepatan pemain sepak bola: {kecepatan_pemainsepakbola:.2f}m/s\")\n",
        "#hitung kecepatan tertinggi\n",
        "kecepatan_tertinggi = max(kecepatan_kereta, kecepatan_kapal, kecepatan_pemainsepakbola)\n",
        "if kecepatan_tertinggi == kecepatan_drone: kendaraan_tercepat = \"drone\"\n",
        "elif kecepatan_tertinggi == kecepatan_kapal: kendaraan_tercepat = \"kapal\"\n",
        "else:\n",
        "  kendaraan_tercepat = \"pemain sepak bola\"\n",
        "#tampilkan hasil\n",
        "print(f\"kendaraan tercepat adalah {kendaraan_tercepat} dengan kecepatan {kecepatan_tertinggi} m/s\")"
      ],
      "metadata": {
        "colab": {
          "base_uri": "https://localhost:8080/"
        },
        "id": "WBHcwyH52wE8",
        "outputId": "26e4e7a6-0059-4ccf-8f3a-fbe18aaef566"
      },
      "execution_count": null,
      "outputs": [
        {
          "output_type": "stream",
          "name": "stdout",
          "text": [
            "kecepatan drone: 20.00m/s\n",
            "kecepatan kapal:  16.67m/s\n",
            "kecepatan pemain sepak bola: 8.57m/s\n",
            "kendaraan tercepat adalah pemain sepak bola dengan kecepatan 27.77777777777778 m/s\n"
          ]
        }
      ]
    }
  ],
  "metadata": {
    "colab": {
      "name": "Welcome To Colab",
      "toc_visible": true,
      "provenance": [],
      "include_colab_link": true
    },
    "kernelspec": {
      "display_name": "Python 3",
      "name": "python3"
    }
  },
  "nbformat": 4,
  "nbformat_minor": 0
}