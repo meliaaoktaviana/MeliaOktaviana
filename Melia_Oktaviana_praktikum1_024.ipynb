{
  "nbformat": 4,
  "nbformat_minor": 0,
  "metadata": {
    "colab": {
      "provenance": [],
      "authorship_tag": "ABX9TyMzsQepBpnYCY1ddRomLGYF",
      "include_colab_link": true
    },
    "kernelspec": {
      "name": "python3",
      "display_name": "Python 3"
    },
    "language_info": {
      "name": "python"
    }
  },
  "cells": [
    {
      "cell_type": "markdown",
      "metadata": {
        "id": "view-in-github",
        "colab_type": "text"
      },
      "source": [
        "<a href=\"https://colab.research.google.com/github/meliaaoktaviana/MeliaOktaviana/blob/main/Melia_Oktaviana_praktikum1_024.ipynb\" target=\"_parent\"><img src=\"https://colab.research.google.com/assets/colab-badge.svg\" alt=\"Open In Colab\"/></a>"
      ]
    },
    {
      "cell_type": "code",
      "execution_count": 2,
      "metadata": {
        "colab": {
          "base_uri": "https://localhost:8080/"
        },
        "id": "VaDBgn1vkBr-",
        "outputId": "cef68649-8357-4817-ecbf-14fc62aa043f"
      },
      "outputs": [
        {
          "output_type": "stream",
          "name": "stdout",
          "text": [
            "kecepatan mobil: 22.22m/s\n",
            "kecepatan motor: 30.00m/s\n",
            "kecepatan sepeda: 20.00m/s\n",
            "kendaraan dengan kecepatan tertinggi adalah motor dengan kecepatan 30.0m/s\n"
          ]
        }
      ],
      "source": [
        "#kasus 1\n",
        "# masukan data jarak (meter) dan waktu (detik)\n",
        "jarak_mobil = 2000\n",
        "jarak_motor = 1500\n",
        "jarak_sepeda = 800\n",
        "waktu_mobil = 90\n",
        "waktu_motor = 50\n",
        "waktu_sepeda = 40\n",
        "#menghitung kecepatan (m/s)\n",
        "kecepatan_mobil = jarak_mobil/waktu_mobil\n",
        "kecepatan_motor = jarak_motor/waktu_motor\n",
        "kecepatan_sepeda = jarak_sepeda/waktu_sepeda\n",
        "#tampilkan hasil\n",
        "print(f\"kecepatan mobil: {kecepatan_mobil:.2f}m/s\")\n",
        "print(f\"kecepatan motor: {kecepatan_motor:.2f}m/s\")\n",
        "print(f\"kecepatan sepeda: {kecepatan_sepeda:.2f}m/s\")\n",
        "#kecepatan tertinggi\n",
        "kecepatan_tertinggi = max(kecepatan_mobil, kecepatan_motor, kecepatan_sepeda)\n",
        "if kecepatan_tertinggi == kecepatan_mobil: kendaraan_tercepat = \"mobil\"\n",
        "elif kecepatan_tertinggi == kecepatan_motor: kendaraan_tercepat = \"motor\"\n",
        "else:\n",
        "  kendaraan_tercepat = \"sepeda\"\n",
        "#tampilkan hasil\n",
        "print(f\"kendaraan dengan kecepatan tertinggi adalah {kendaraan_tercepat} dengan kecepatan {kecepatan_tertinggi}m/s\")"
      ]
    },
    {
      "cell_type": "code",
      "source": [
        "#kasus 2\n",
        "#masukan data jarak (meter) dan waktu (detik)\n",
        "jarak_pelari1 = 400\n",
        "jarak_pelari2 = 800\n",
        "jarak_pelari3 = 100\n",
        "waktu_pelari1 = 50\n",
        "waktu_pelari2 = 120\n",
        "waktu_pelari3 = 11\n",
        "#hitung kecepatan (m/s)\n",
        "kecepatan_pelari1 = jarak_pelari1/waktu_pelari1\n",
        "kecepatan_pelari2 = jarak_pelari2/waktu_pelari2\n",
        "kecepatan_pelari3 = jarak_pelari3/waktu_pelari3\n",
        "#tampilkan hasil\n",
        "print(f\"kecepatan pelari 1: {kecepatan_pelari1:.2f}m/s\")\n",
        "print(f\"kecepatan pelari 2: {kecepatan_pelari2:.2f}m/s\")\n",
        "print(f\"kecepatan pelari 3: {kecepatan_pelari3:.2f}m/s\")\n",
        "#pelari tercepat\n",
        "kecepatan_tertinggi = max(kecepatan_pelari1, kecepatan_pelari2, kecepatan_pelari3)\n",
        "if kecepatan_tertinggi == kecepatan_pelari1: pelari_tercepat = \"pelari 1\"\n",
        "elif kecepatan_tertinggi == kecepatan_pelari2: pelari_tercepat = \"pelari 2\"\n",
        "else:\n",
        "  pelari_tercepat = \"pelari 3\"\n",
        "print(f\"pelari dengan kecepatan tertinggi adalah: {pelari_tercepat} dengan kecepatan {kecepatan_tertinggi}m/s\")"
      ],
      "metadata": {
        "colab": {
          "base_uri": "https://localhost:8080/"
        },
        "id": "eeAgYBqum85C",
        "outputId": "c14bbb34-579e-4f3b-e7c2-07bd4fc94a9f"
      },
      "execution_count": 4,
      "outputs": [
        {
          "output_type": "stream",
          "name": "stdout",
          "text": [
            "kecepatan pelari 1: 8.00m/s\n",
            "kecepatan pelari 2: 6.67m/s\n",
            "kecepatan pelari 3: 9.09m/s\n",
            "pelari dengan kecepatan tertinggi adalah: pelari 3 dengan kecepatan 9.090909090909092m/s\n"
          ]
        }
      ]
    },
    {
      "cell_type": "code",
      "source": [
        "#kasus 3\n",
        "#masukan data jarak (meter) dan waktu (detik)\n",
        "jarak_kereta = 5000\n",
        "jarak_bus = 3000\n",
        "jarak_truk = 2500\n",
        "waktu_kereta = 180\n",
        "waktu_bus = 120\n",
        "waktu_truk = 120\n",
        "\n",
        "#menghitung kecepatan\n",
        "kecepatan_kereta = jarak_kereta/waktu_kereta\n",
        "kecepatan_bus = jarak_bus/waktu_bus\n",
        "kecepatan_truk = jarak_truk/waktu_truk\n",
        "#tampilkan hasil\n",
        "print(f\"kecepatan kereta: {kecepatan_kereta:.2f}m/s\")\n",
        "print(f\"kecepatan bus: {kecepatan_bus:.2f}m/s\")\n",
        "print(f\"kecepatan truk: {kecepatan_truk:.2f}m/s\")\n",
        "#pelari tercepat\n",
        "kecepatan_tertinggi = max(kecepatan_kereta, kecepatan_bus, kecepatan_truk)\n",
        "if kecepatan_tertinggi == kecepatan_bus: kendaraan_tercepat = \"kereta\"\n",
        "elif kecepatan_tertinggi == kecepatan_truk: kendaraan_tercepat = \"bus\"\n",
        "else:\n",
        "  kendaraan_tercepat = \"truk\"\n",
        "print(f\"kendaraan dengan kecepatan tertinggi adalah {kendaraan_tercepat} dengan kecepatan {kecepatan_tertinggi}m/s\")"
      ],
      "metadata": {
        "colab": {
          "base_uri": "https://localhost:8080/"
        },
        "id": "v8yMrzivplQ5",
        "outputId": "26c52dee-5d11-4386-f4e8-df9b26558c16"
      },
      "execution_count": 6,
      "outputs": [
        {
          "output_type": "stream",
          "name": "stdout",
          "text": [
            "kecepatan kereta: 27.78m/s\n",
            "kecepatan bus: 25.00m/s\n",
            "kecepatan truk: 20.83m/s\n",
            "kendaraan dengan kecepatan tertinggi adalah kereta dengan kecepatan 27.77777777777778m/s\n"
          ]
        }
      ]
    },
    {
      "cell_type": "code",
      "source": [
        "#kasus 4\n",
        "#masukan data jarak (meter) dan waktu (detik)\n",
        "jarak_drone = 1200\n",
        "jarak_kapal = 5000\n",
        "jarak_pemainsepakbola = 60\n",
        "waktu_drone = 60\n",
        "waktu_kapal = 300\n",
        "waktu_pemainsepakbola = 7\n",
        "\n",
        "#menghitung kecepatan\n",
        "kecepatan_drone = jarak_drone/waktu_drone\n",
        "kecepatan_kapal = jarak_kapal/waktu_kapal\n",
        "kecepatan_pemainsepakbola = jarak_pemainsepakbola/waktu_pemainsepakbola\n",
        "#tampilkan hasil\n",
        "print(f\"kecepatan drone: {kecepatan_drone:.2f}m/s\")\n",
        "print(f\"kecepatan kapal: {kecepatan_kapal:.2f}m/s\")\n",
        "print(f\"kecepatan pemain sepak bola: {kecepatan_pemainsepakbola:.2f}m/s\")\n",
        "#kecepatan tertinggi\n",
        "kecepatan_tertinggi = max(kecepatan_drone, kecepatan_kapal, kecepatan_pemainsepakbola)\n",
        "if kecepatan_tertinggi == kecepatan_drone: kendaraan_tercepat = \"drone\"\n",
        "elif kecepatan_tertinggi == kecepatan_kapal: kendaraan_tercepat = \"kapal\"\n",
        "else:\n",
        "  kendaraan_tercepat = \"pemain sepak bola\"\n",
        "print(f\"kendaraan dengan kecepatan tertinggi adalah {kendaraan_tercepat} dengan kecepatan {kecepatan_tertinggi}m/s\")"
      ],
      "metadata": {
        "colab": {
          "base_uri": "https://localhost:8080/"
        },
        "id": "ddyKspsusWq_",
        "outputId": "e656bbc1-841d-408e-e517-9f8a25c307dc"
      },
      "execution_count": 7,
      "outputs": [
        {
          "output_type": "stream",
          "name": "stdout",
          "text": [
            "kecepatan drone: 20.00m/s\n",
            "kecepatan kapal: 16.67m/s\n",
            "kecepatan pemain sepak bola: 8.57m/s\n",
            "kendaraan dengan kecepatan tertinggi adalah drone dengan kecepatan 20.0m/s\n"
          ]
        }
      ]
    }
  ]
}